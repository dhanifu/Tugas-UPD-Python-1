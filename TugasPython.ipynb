{
 "cells": [
  {
   "cell_type": "code",
   "execution_count": 1,
   "metadata": {},
   "outputs": [
    {
     "name": "stdout",
     "output_type": "stream",
     "text": [
      "***************************************\n",
      "Data inputan\n",
      "NIS   : 11806764\n",
      "Nama  : Muhammad Ramdhani\n",
      "JK    : Laki-Laki\n",
      "Rombel : RPL XI-3\n",
      "Rayon  : Ciawi 3\n",
      "Nilai B.Indonesia : 90\n",
      "Nilai Matematika : 80\n",
      "Nilai B.Inggris  : 75\n",
      "***************************************\n",
      "Laporan Nilai akhir Semester\n",
      "SMK WIKRAMA BOGOR\n",
      "-----DATA DIRI------\n",
      "NIS    : 11806764\n",
      "Nama   : Muhammad Ramdhani\n",
      "JK     : Laki-Laki\n",
      "Rombel : RPL XI-3\n",
      "Rayon  : Ciawi 3\n",
      "------Nilai-----\n",
      "Bahasa Indonesia   : 90\n",
      "Matematika         : 80\n",
      "Bahasa Inggris     : 75\n",
      "Rata-Rata Nilai    : 81.66666666666667\n",
      "Kriteria Kelulusan : Lulus\n"
     ]
    }
   ],
   "source": [
    "print(\"***************************************\")\n",
    "print(\"Data inputan\")\n",
    "nis = input(\"NIS   : \")\n",
    "nama = input(\"Nama  : \")\n",
    "jk = input(\"JK    : \")\n",
    "rombel = input(\"Rombel : \")\n",
    "rayon = input(\"Rayon  : \")\n",
    "bIndo = int(input(\"Nilai B.Indonesia : \"))\n",
    "mtk = int(input(\"Nilai Matematika : \"))\n",
    "bInggris = int(input(\"Nilai B.Inggris  : \"))\n",
    "print(\"***************************************\")\n",
    "print(\"Laporan Nilai akhir Semester\")\n",
    "print(\"SMK WIKRAMA BOGOR\")\n",
    "print(\"-----DATA DIRI------\")\n",
    "print(\"NIS    :\", nis)\n",
    "print(\"Nama   :\", nama)\n",
    "print(\"JK     :\", jk)\n",
    "print(\"Rombel :\", rombel)\n",
    "print(\"Rayon  :\", rayon)\n",
    "print(\"------Nilai-----\")\n",
    "print(\"Bahasa Indonesia   :\", bIndo)\n",
    "print(\"Matematika         :\", mtk)\n",
    "print(\"Bahasa Inggris     :\", bInggris)\n",
    "rataRata = (bIndo+mtk+bInggris)/3\n",
    "print(\"Rata-Rata Nilai    :\", rataRata)\n",
    "if rataRata >= 75:\n",
    "    print(\"Kriteria Kelulusan : Lulus\")\n",
    "else:\n",
    "    print(\"Kriteria Kelulusan : Tidak Lulus\")"
   ]
  },
  {
   "cell_type": "code",
   "execution_count": null,
   "metadata": {},
   "outputs": [],
   "source": []
  }
 ],
 "metadata": {
  "kernelspec": {
   "display_name": "Python 3",
   "language": "python",
   "name": "python3"
  },
  "language_info": {
   "codemirror_mode": {
    "name": "ipython",
    "version": 3
   },
   "file_extension": ".py",
   "mimetype": "text/x-python",
   "name": "python",
   "nbconvert_exporter": "python",
   "pygments_lexer": "ipython3",
   "version": "3.7.1"
  }
 },
 "nbformat": 4,
 "nbformat_minor": 2
}
